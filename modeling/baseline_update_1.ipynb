{
 "cells": [
  {
   "cell_type": "code",
   "execution_count": 1,
   "metadata": {},
   "outputs": [],
   "source": [
    "import pandas as pd"
   ]
  },
  {
   "cell_type": "code",
   "execution_count": 2,
   "metadata": {},
   "outputs": [
    {
     "name": "stdout",
     "output_type": "stream",
     "text": [
      "(334, 13)\n"
     ]
    },
    {
     "data": {
      "text/html": [
       "<div>\n",
       "<style scoped>\n",
       "    .dataframe tbody tr th:only-of-type {\n",
       "        vertical-align: middle;\n",
       "    }\n",
       "\n",
       "    .dataframe tbody tr th {\n",
       "        vertical-align: top;\n",
       "    }\n",
       "\n",
       "    .dataframe thead th {\n",
       "        text-align: right;\n",
       "    }\n",
       "</style>\n",
       "<table border=\"1\" class=\"dataframe\">\n",
       "  <thead>\n",
       "    <tr style=\"text-align: right;\">\n",
       "      <th></th>\n",
       "      <th>Appearance</th>\n",
       "      <th>Aroma</th>\n",
       "      <th>Description</th>\n",
       "      <th>Flavor</th>\n",
       "      <th>Flowering Time</th>\n",
       "      <th>Grow</th>\n",
       "      <th>Grow Medium</th>\n",
       "      <th>Lineage</th>\n",
       "      <th>Name</th>\n",
       "      <th>Origin</th>\n",
       "      <th>Qualities</th>\n",
       "      <th>Story</th>\n",
       "      <th>Strain Type</th>\n",
       "    </tr>\n",
       "  </thead>\n",
       "  <tbody>\n",
       "    <tr>\n",
       "      <td>0</td>\n",
       "      <td>Broad, spade-shaped woodland green calyxes in ...</td>\n",
       "      <td>We were definitely \"wowed\" by the aroma that t...</td>\n",
       "      <td>For lovers of Bubba Kush, this strain is a mus...</td>\n",
       "      <td>While it was nearly impossible to live up to t...</td>\n",
       "      <td>NaN</td>\n",
       "      <td>Clone</td>\n",
       "      <td>NaN</td>\n",
       "      <td>Pre-'98 Bubba Kush x Reservoir ChemDawg IC3</td>\n",
       "      <td>303 Kush</td>\n",
       "      <td>Colorado</td>\n",
       "      <td>One word kept coming up during our reviews of ...</td>\n",
       "      <td>Selected by Colorado's Hill Billy (and named f...</td>\n",
       "      <td>Indica-dominant hybrid</td>\n",
       "    </tr>\n",
       "    <tr>\n",
       "      <td>1</td>\n",
       "      <td>NaN</td>\n",
       "      <td>Pungent mix of lemon, garlic, and body odor fu...</td>\n",
       "      <td>Albert Walker is a legendary clone-only Afghan...</td>\n",
       "      <td>Spicy and citrusy, with a lingering aftertaste</td>\n",
       "      <td>60 days</td>\n",
       "      <td>Clone-only, very rare</td>\n",
       "      <td>(info courtesy of Scott, founder of Stone Moun...</td>\n",
       "      <td>Albert Walker x Manic</td>\n",
       "      <td>32 (\"Three-Two\")</td>\n",
       "      <td>Afghanistan</td>\n",
       "      <td>Though it's a strongly Indica-dominant strain,...</td>\n",
       "      <td>This strain was named \"32? (pronounced \"Three-...</td>\n",
       "      <td>Indica-dominant hybrid</td>\n",
       "    </tr>\n",
       "    <tr>\n",
       "      <td>2</td>\n",
       "      <td>NaN</td>\n",
       "      <td>NaN</td>\n",
       "      <td>Sour D x OG Kush x Master Kush</td>\n",
       "      <td>NaN</td>\n",
       "      <td>NaN</td>\n",
       "      <td>NaN</td>\n",
       "      <td>NaN</td>\n",
       "      <td>Sour D x OG Kush x Master Kush</td>\n",
       "      <td>707 Headband</td>\n",
       "      <td>Northern California</td>\n",
       "      <td>NaN</td>\n",
       "      <td>NaN</td>\n",
       "      <td>Sativa Dominant</td>\n",
       "    </tr>\n",
       "    <tr>\n",
       "      <td>3</td>\n",
       "      <td>Claw-shaped fern green sepals in open, loose c...</td>\n",
       "      <td>he staff's consensus favorite part of this sam...</td>\n",
       "      <td>This A.S.H. is an example of some classic gene...</td>\n",
       "      <td>Flavor-wise, this strain was again a mix betwe...</td>\n",
       "      <td>NaN</td>\n",
       "      <td>Seed</td>\n",
       "      <td>NaN</td>\n",
       "      <td>Afghani Skunk x Afghani Haze</td>\n",
       "      <td>A.S.H.</td>\n",
       "      <td>Netherlands</td>\n",
       "      <td>We felt both parts of the lineage on this one ...</td>\n",
       "      <td>Bred by Mr. Nice Seedbank</td>\n",
       "      <td>Sativa Dominant Hybrid</td>\n",
       "    </tr>\n",
       "    <tr>\n",
       "      <td>4</td>\n",
       "      <td>NaN</td>\n",
       "      <td>Spicy Aroma with hints of lemon</td>\n",
       "      <td>NaN</td>\n",
       "      <td>NaN</td>\n",
       "      <td>NaN</td>\n",
       "      <td>NaN</td>\n",
       "      <td>NaN</td>\n",
       "      <td>OG Kush</td>\n",
       "      <td>Abusive's OG Kush</td>\n",
       "      <td>NaN</td>\n",
       "      <td>NaN</td>\n",
       "      <td>Abusive's OG (later renamed \"L.A. Kush\") is a ...</td>\n",
       "      <td>Indica</td>\n",
       "    </tr>\n",
       "  </tbody>\n",
       "</table>\n",
       "</div>"
      ],
      "text/plain": [
       "                                          Appearance  \\\n",
       "0  Broad, spade-shaped woodland green calyxes in ...   \n",
       "1                                                NaN   \n",
       "2                                                NaN   \n",
       "3  Claw-shaped fern green sepals in open, loose c...   \n",
       "4                                                NaN   \n",
       "\n",
       "                                               Aroma  \\\n",
       "0  We were definitely \"wowed\" by the aroma that t...   \n",
       "1  Pungent mix of lemon, garlic, and body odor fu...   \n",
       "2                                                NaN   \n",
       "3  he staff's consensus favorite part of this sam...   \n",
       "4                    Spicy Aroma with hints of lemon   \n",
       "\n",
       "                                         Description  \\\n",
       "0  For lovers of Bubba Kush, this strain is a mus...   \n",
       "1  Albert Walker is a legendary clone-only Afghan...   \n",
       "2                     Sour D x OG Kush x Master Kush   \n",
       "3  This A.S.H. is an example of some classic gene...   \n",
       "4                                                NaN   \n",
       "\n",
       "                                              Flavor Flowering Time  \\\n",
       "0  While it was nearly impossible to live up to t...            NaN   \n",
       "1     Spicy and citrusy, with a lingering aftertaste        60 days   \n",
       "2                                                NaN            NaN   \n",
       "3  Flavor-wise, this strain was again a mix betwe...            NaN   \n",
       "4                                                NaN            NaN   \n",
       "\n",
       "                    Grow                                        Grow Medium  \\\n",
       "0                  Clone                                                NaN   \n",
       "1  Clone-only, very rare  (info courtesy of Scott, founder of Stone Moun...   \n",
       "2                    NaN                                                NaN   \n",
       "3                   Seed                                                NaN   \n",
       "4                    NaN                                                NaN   \n",
       "\n",
       "                                       Lineage               Name  \\\n",
       "0  Pre-'98 Bubba Kush x Reservoir ChemDawg IC3           303 Kush   \n",
       "1                        Albert Walker x Manic   32 (\"Three-Two\")   \n",
       "2               Sour D x OG Kush x Master Kush       707 Headband   \n",
       "3                 Afghani Skunk x Afghani Haze             A.S.H.   \n",
       "4                                      OG Kush  Abusive's OG Kush   \n",
       "\n",
       "                Origin                                          Qualities  \\\n",
       "0             Colorado  One word kept coming up during our reviews of ...   \n",
       "1          Afghanistan  Though it's a strongly Indica-dominant strain,...   \n",
       "2  Northern California                                                NaN   \n",
       "3          Netherlands  We felt both parts of the lineage on this one ...   \n",
       "4                  NaN                                                NaN   \n",
       "\n",
       "                                               Story             Strain Type  \n",
       "0  Selected by Colorado's Hill Billy (and named f...  Indica-dominant hybrid  \n",
       "1  This strain was named \"32? (pronounced \"Three-...  Indica-dominant hybrid  \n",
       "2                                                NaN         Sativa Dominant  \n",
       "3                          Bred by Mr. Nice Seedbank  Sativa Dominant Hybrid  \n",
       "4  Abusive's OG (later renamed \"L.A. Kush\") is a ...                  Indica  "
      ]
     },
     "execution_count": 2,
     "metadata": {},
     "output_type": "execute_result"
    }
   ],
   "source": [
    "potguide = pd.read_csv('potguide_data.csv')\n",
    "print(potguide.shape)\n",
    "potguide.head()"
   ]
  },
  {
   "cell_type": "code",
   "execution_count": 3,
   "metadata": {},
   "outputs": [
    {
     "data": {
      "text/plain": [
       "Afghanica               3\n",
       "A.S.H.                  3\n",
       "32 (\"Three-Two\")        3\n",
       "Afkansastan             3\n",
       "AfPak                   3\n",
       "                       ..\n",
       "Sweet Sweet             1\n",
       "Snow Wreck              1\n",
       "Bogglegum               1\n",
       "Bubba OG                1\n",
       "New York City Diesel    1\n",
       "Name: Name, Length: 304, dtype: int64"
      ]
     },
     "execution_count": 3,
     "metadata": {},
     "output_type": "execute_result"
    }
   ],
   "source": [
    "potguide.Name.value_counts()"
   ]
  },
  {
   "cell_type": "code",
   "execution_count": 4,
   "metadata": {},
   "outputs": [
    {
     "data": {
      "text/plain": [
       "(304, 13)"
      ]
     },
     "execution_count": 4,
     "metadata": {},
     "output_type": "execute_result"
    }
   ],
   "source": [
    "potguide.drop_duplicates().shape"
   ]
  },
  {
   "cell_type": "code",
   "execution_count": 5,
   "metadata": {},
   "outputs": [
    {
     "name": "stdout",
     "output_type": "stream",
     "text": [
      "(304, 13)\n"
     ]
    },
    {
     "data": {
      "text/html": [
       "<div>\n",
       "<style scoped>\n",
       "    .dataframe tbody tr th:only-of-type {\n",
       "        vertical-align: middle;\n",
       "    }\n",
       "\n",
       "    .dataframe tbody tr th {\n",
       "        vertical-align: top;\n",
       "    }\n",
       "\n",
       "    .dataframe thead th {\n",
       "        text-align: right;\n",
       "    }\n",
       "</style>\n",
       "<table border=\"1\" class=\"dataframe\">\n",
       "  <thead>\n",
       "    <tr style=\"text-align: right;\">\n",
       "      <th></th>\n",
       "      <th>Appearance</th>\n",
       "      <th>Aroma</th>\n",
       "      <th>Description</th>\n",
       "      <th>Flavor</th>\n",
       "      <th>Flowering Time</th>\n",
       "      <th>Grow</th>\n",
       "      <th>Grow Medium</th>\n",
       "      <th>Lineage</th>\n",
       "      <th>Name</th>\n",
       "      <th>Origin</th>\n",
       "      <th>Qualities</th>\n",
       "      <th>Story</th>\n",
       "      <th>Strain Type</th>\n",
       "    </tr>\n",
       "  </thead>\n",
       "  <tbody>\n",
       "    <tr>\n",
       "      <td>0</td>\n",
       "      <td>Broad, spade-shaped woodland green calyxes in ...</td>\n",
       "      <td>We were definitely \"wowed\" by the aroma that t...</td>\n",
       "      <td>For lovers of Bubba Kush, this strain is a mus...</td>\n",
       "      <td>While it was nearly impossible to live up to t...</td>\n",
       "      <td>NaN</td>\n",
       "      <td>Clone</td>\n",
       "      <td>NaN</td>\n",
       "      <td>Pre-'98 Bubba Kush x Reservoir ChemDawg IC3</td>\n",
       "      <td>303 Kush</td>\n",
       "      <td>Colorado</td>\n",
       "      <td>One word kept coming up during our reviews of ...</td>\n",
       "      <td>Selected by Colorado's Hill Billy (and named f...</td>\n",
       "      <td>Indica-dominant hybrid</td>\n",
       "    </tr>\n",
       "    <tr>\n",
       "      <td>1</td>\n",
       "      <td>NaN</td>\n",
       "      <td>Pungent mix of lemon, garlic, and body odor fu...</td>\n",
       "      <td>Albert Walker is a legendary clone-only Afghan...</td>\n",
       "      <td>Spicy and citrusy, with a lingering aftertaste</td>\n",
       "      <td>60 days</td>\n",
       "      <td>Clone-only, very rare</td>\n",
       "      <td>(info courtesy of Scott, founder of Stone Moun...</td>\n",
       "      <td>Albert Walker x Manic</td>\n",
       "      <td>32 (\"Three-Two\")</td>\n",
       "      <td>Afghanistan</td>\n",
       "      <td>Though it's a strongly Indica-dominant strain,...</td>\n",
       "      <td>This strain was named \"32? (pronounced \"Three-...</td>\n",
       "      <td>Indica-dominant hybrid</td>\n",
       "    </tr>\n",
       "    <tr>\n",
       "      <td>2</td>\n",
       "      <td>NaN</td>\n",
       "      <td>NaN</td>\n",
       "      <td>Sour D x OG Kush x Master Kush</td>\n",
       "      <td>NaN</td>\n",
       "      <td>NaN</td>\n",
       "      <td>NaN</td>\n",
       "      <td>NaN</td>\n",
       "      <td>Sour D x OG Kush x Master Kush</td>\n",
       "      <td>707 Headband</td>\n",
       "      <td>Northern California</td>\n",
       "      <td>NaN</td>\n",
       "      <td>NaN</td>\n",
       "      <td>Sativa Dominant</td>\n",
       "    </tr>\n",
       "    <tr>\n",
       "      <td>3</td>\n",
       "      <td>Claw-shaped fern green sepals in open, loose c...</td>\n",
       "      <td>he staff's consensus favorite part of this sam...</td>\n",
       "      <td>This A.S.H. is an example of some classic gene...</td>\n",
       "      <td>Flavor-wise, this strain was again a mix betwe...</td>\n",
       "      <td>NaN</td>\n",
       "      <td>Seed</td>\n",
       "      <td>NaN</td>\n",
       "      <td>Afghani Skunk x Afghani Haze</td>\n",
       "      <td>A.S.H.</td>\n",
       "      <td>Netherlands</td>\n",
       "      <td>We felt both parts of the lineage on this one ...</td>\n",
       "      <td>Bred by Mr. Nice Seedbank</td>\n",
       "      <td>Sativa Dominant Hybrid</td>\n",
       "    </tr>\n",
       "    <tr>\n",
       "      <td>4</td>\n",
       "      <td>NaN</td>\n",
       "      <td>Spicy Aroma with hints of lemon</td>\n",
       "      <td>NaN</td>\n",
       "      <td>NaN</td>\n",
       "      <td>NaN</td>\n",
       "      <td>NaN</td>\n",
       "      <td>NaN</td>\n",
       "      <td>OG Kush</td>\n",
       "      <td>Abusive's OG Kush</td>\n",
       "      <td>NaN</td>\n",
       "      <td>NaN</td>\n",
       "      <td>Abusive's OG (later renamed \"L.A. Kush\") is a ...</td>\n",
       "      <td>Indica</td>\n",
       "    </tr>\n",
       "  </tbody>\n",
       "</table>\n",
       "</div>"
      ],
      "text/plain": [
       "                                          Appearance  \\\n",
       "0  Broad, spade-shaped woodland green calyxes in ...   \n",
       "1                                                NaN   \n",
       "2                                                NaN   \n",
       "3  Claw-shaped fern green sepals in open, loose c...   \n",
       "4                                                NaN   \n",
       "\n",
       "                                               Aroma  \\\n",
       "0  We were definitely \"wowed\" by the aroma that t...   \n",
       "1  Pungent mix of lemon, garlic, and body odor fu...   \n",
       "2                                                NaN   \n",
       "3  he staff's consensus favorite part of this sam...   \n",
       "4                    Spicy Aroma with hints of lemon   \n",
       "\n",
       "                                         Description  \\\n",
       "0  For lovers of Bubba Kush, this strain is a mus...   \n",
       "1  Albert Walker is a legendary clone-only Afghan...   \n",
       "2                     Sour D x OG Kush x Master Kush   \n",
       "3  This A.S.H. is an example of some classic gene...   \n",
       "4                                                NaN   \n",
       "\n",
       "                                              Flavor Flowering Time  \\\n",
       "0  While it was nearly impossible to live up to t...            NaN   \n",
       "1     Spicy and citrusy, with a lingering aftertaste        60 days   \n",
       "2                                                NaN            NaN   \n",
       "3  Flavor-wise, this strain was again a mix betwe...            NaN   \n",
       "4                                                NaN            NaN   \n",
       "\n",
       "                    Grow                                        Grow Medium  \\\n",
       "0                  Clone                                                NaN   \n",
       "1  Clone-only, very rare  (info courtesy of Scott, founder of Stone Moun...   \n",
       "2                    NaN                                                NaN   \n",
       "3                   Seed                                                NaN   \n",
       "4                    NaN                                                NaN   \n",
       "\n",
       "                                       Lineage               Name  \\\n",
       "0  Pre-'98 Bubba Kush x Reservoir ChemDawg IC3           303 Kush   \n",
       "1                        Albert Walker x Manic   32 (\"Three-Two\")   \n",
       "2               Sour D x OG Kush x Master Kush       707 Headband   \n",
       "3                 Afghani Skunk x Afghani Haze             A.S.H.   \n",
       "4                                      OG Kush  Abusive's OG Kush   \n",
       "\n",
       "                Origin                                          Qualities  \\\n",
       "0             Colorado  One word kept coming up during our reviews of ...   \n",
       "1          Afghanistan  Though it's a strongly Indica-dominant strain,...   \n",
       "2  Northern California                                                NaN   \n",
       "3          Netherlands  We felt both parts of the lineage on this one ...   \n",
       "4                  NaN                                                NaN   \n",
       "\n",
       "                                               Story             Strain Type  \n",
       "0  Selected by Colorado's Hill Billy (and named f...  Indica-dominant hybrid  \n",
       "1  This strain was named \"32? (pronounced \"Three-...  Indica-dominant hybrid  \n",
       "2                                                NaN         Sativa Dominant  \n",
       "3                          Bred by Mr. Nice Seedbank  Sativa Dominant Hybrid  \n",
       "4  Abusive's OG (later renamed \"L.A. Kush\") is a ...                  Indica  "
      ]
     },
     "execution_count": 5,
     "metadata": {},
     "output_type": "execute_result"
    }
   ],
   "source": [
    "# Remove any duplicatess\n",
    "potguide = potguide.drop_duplicates()\n",
    "print(potguide.shape)\n",
    "potguide.head()"
   ]
  },
  {
   "cell_type": "code",
   "execution_count": 6,
   "metadata": {},
   "outputs": [],
   "source": [
    "potguide_aroma = potguide[['Name', 'Aroma']].dropna()"
   ]
  },
  {
   "cell_type": "code",
   "execution_count": 7,
   "metadata": {},
   "outputs": [],
   "source": [
    "potguide_flavor = potguide[['Name', 'Flavor']].dropna()"
   ]
  },
  {
   "cell_type": "code",
   "execution_count": 8,
   "metadata": {},
   "outputs": [],
   "source": [
    "potguide_qualities = potguide[['Name', 'Qualities']].dropna()"
   ]
  },
  {
   "cell_type": "code",
   "execution_count": 9,
   "metadata": {},
   "outputs": [],
   "source": [
    "potguide_data = [potguide_aroma, potguide_flavor, potguide_qualities]\n",
    "\n",
    "for df in potguide_data:\n",
    "    header = list(df)\n",
    "    df.rename(columns={header[0]: \"strain\", header[1]: \"text\"}, inplace=True)"
   ]
  },
  {
   "cell_type": "code",
   "execution_count": 10,
   "metadata": {},
   "outputs": [
    {
     "name": "stdout",
     "output_type": "stream",
     "text": [
      "['strain', 'text']\n",
      "['strain', 'text']\n",
      "['strain', 'text']\n"
     ]
    }
   ],
   "source": [
    "# Standardizing header\n",
    "for df in potguide_data:\n",
    "    print(list(df))"
   ]
  },
  {
   "cell_type": "code",
   "execution_count": 11,
   "metadata": {},
   "outputs": [
    {
     "name": "stdout",
     "output_type": "stream",
     "text": [
      "(269335, 2)\n"
     ]
    },
    {
     "data": {
      "text/html": [
       "<div>\n",
       "<style scoped>\n",
       "    .dataframe tbody tr th:only-of-type {\n",
       "        vertical-align: middle;\n",
       "    }\n",
       "\n",
       "    .dataframe tbody tr th {\n",
       "        vertical-align: top;\n",
       "    }\n",
       "\n",
       "    .dataframe thead th {\n",
       "        text-align: right;\n",
       "    }\n",
       "</style>\n",
       "<table border=\"1\" class=\"dataframe\">\n",
       "  <thead>\n",
       "    <tr style=\"text-align: right;\">\n",
       "      <th></th>\n",
       "      <th>strain</th>\n",
       "      <th>leafly_review</th>\n",
       "    </tr>\n",
       "  </thead>\n",
       "  <tbody>\n",
       "    <tr>\n",
       "      <td>0</td>\n",
       "      <td>blues</td>\n",
       "      <td>\"“Unknown by origin Blues is unofficially only...</td>\n",
       "    </tr>\n",
       "    <tr>\n",
       "      <td>1</td>\n",
       "      <td>blues</td>\n",
       "      <td>\"“Grew out this strain. It is a stout strong p...</td>\n",
       "    </tr>\n",
       "    <tr>\n",
       "      <td>2</td>\n",
       "      <td>blues</td>\n",
       "      <td>\"“Hey guys am from the north of the uk ( Scunt...</td>\n",
       "    </tr>\n",
       "    <tr>\n",
       "      <td>3</td>\n",
       "      <td>blues</td>\n",
       "      <td>\"“This weed IS amazing DEPENDING on the grower...</td>\n",
       "    </tr>\n",
       "    <tr>\n",
       "      <td>4</td>\n",
       "      <td>blues</td>\n",
       "      <td>like I said it all depends on the grower , Per...</td>\n",
       "    </tr>\n",
       "  </tbody>\n",
       "</table>\n",
       "</div>"
      ],
      "text/plain": [
       "  strain                                      leafly_review\n",
       "0  blues  \"“Unknown by origin Blues is unofficially only...\n",
       "1  blues  \"“Grew out this strain. It is a stout strong p...\n",
       "2  blues  \"“Hey guys am from the north of the uk ( Scunt...\n",
       "3  blues  \"“This weed IS amazing DEPENDING on the grower...\n",
       "4  blues  like I said it all depends on the grower , Per..."
      ]
     },
     "execution_count": 11,
     "metadata": {},
     "output_type": "execute_result"
    }
   ],
   "source": [
    "df = pd.read_csv('leafly_reviews.csv')\n",
    "print(df.shape)\n",
    "df.head()"
   ]
  },
  {
   "cell_type": "code",
   "execution_count": 12,
   "metadata": {},
   "outputs": [
    {
     "name": "stdout",
     "output_type": "stream",
     "text": [
      "(195012, 2)\n"
     ]
    },
    {
     "data": {
      "text/html": [
       "<div>\n",
       "<style scoped>\n",
       "    .dataframe tbody tr th:only-of-type {\n",
       "        vertical-align: middle;\n",
       "    }\n",
       "\n",
       "    .dataframe tbody tr th {\n",
       "        vertical-align: top;\n",
       "    }\n",
       "\n",
       "    .dataframe thead th {\n",
       "        text-align: right;\n",
       "    }\n",
       "</style>\n",
       "<table border=\"1\" class=\"dataframe\">\n",
       "  <thead>\n",
       "    <tr style=\"text-align: right;\">\n",
       "      <th></th>\n",
       "      <th>strain</th>\n",
       "      <th>leafly_review</th>\n",
       "    </tr>\n",
       "  </thead>\n",
       "  <tbody>\n",
       "    <tr>\n",
       "      <td>46</td>\n",
       "      <td>purple-haze</td>\n",
       "      <td>\"“I grabbed a 1/4 from the Bulldog cafe in Ams...</td>\n",
       "    </tr>\n",
       "    <tr>\n",
       "      <td>47</td>\n",
       "      <td>purple-haze</td>\n",
       "      <td>\"“Took me from down in the dumps to having a c...</td>\n",
       "    </tr>\n",
       "    <tr>\n",
       "      <td>48</td>\n",
       "      <td>purple-haze</td>\n",
       "      <td>\"“Extended review NJ Purple Haze</td>\n",
       "    </tr>\n",
       "    <tr>\n",
       "      <td>49</td>\n",
       "      <td>purple-haze</td>\n",
       "      <td>Been able to give this some more indepth testi...</td>\n",
       "    </tr>\n",
       "    <tr>\n",
       "      <td>50</td>\n",
       "      <td>purple-haze</td>\n",
       "      <td>\"“Very strong strain, killed a bunch of bowl p...</td>\n",
       "    </tr>\n",
       "  </tbody>\n",
       "</table>\n",
       "</div>"
      ],
      "text/plain": [
       "         strain                                      leafly_review\n",
       "46  purple-haze  \"“I grabbed a 1/4 from the Bulldog cafe in Ams...\n",
       "47  purple-haze  \"“Took me from down in the dumps to having a c...\n",
       "48  purple-haze                   \"“Extended review NJ Purple Haze\n",
       "49  purple-haze  Been able to give this some more indepth testi...\n",
       "50  purple-haze  \"“Very strong strain, killed a bunch of bowl p..."
      ]
     },
     "execution_count": 12,
     "metadata": {},
     "output_type": "execute_result"
    }
   ],
   "source": [
    "# Wrangling from previous baseline (look for better alternative, cont on same notebook?)\n",
    "\n",
    "# Remove all strains with less than 100 reviews\n",
    "vc = df.strain.value_counts()\n",
    "df = df[df.strain.isin(vc.index[vc.values >= 100])]\n",
    "\n",
    "# Drop rows with NaN reviews\n",
    "df = df.dropna()\n",
    "\n",
    "print(df.shape)\n",
    "df.head()"
   ]
  },
  {
   "cell_type": "code",
   "execution_count": 13,
   "metadata": {},
   "outputs": [
    {
     "name": "stdout",
     "output_type": "stream",
     "text": [
      "['strain', 'text']\n"
     ]
    }
   ],
   "source": [
    "# Standardizing headers\n",
    "df = df.rename(columns={\"leafly_review\": \"text\"})\n",
    "print(list(df))"
   ]
  },
  {
   "cell_type": "code",
   "execution_count": 14,
   "metadata": {},
   "outputs": [
    {
     "name": "stdout",
     "output_type": "stream",
     "text": [
      "(195757, 2)\n"
     ]
    },
    {
     "data": {
      "text/html": [
       "<div>\n",
       "<style scoped>\n",
       "    .dataframe tbody tr th:only-of-type {\n",
       "        vertical-align: middle;\n",
       "    }\n",
       "\n",
       "    .dataframe tbody tr th {\n",
       "        vertical-align: top;\n",
       "    }\n",
       "\n",
       "    .dataframe thead th {\n",
       "        text-align: right;\n",
       "    }\n",
       "</style>\n",
       "<table border=\"1\" class=\"dataframe\">\n",
       "  <thead>\n",
       "    <tr style=\"text-align: right;\">\n",
       "      <th></th>\n",
       "      <th>strain</th>\n",
       "      <th>text</th>\n",
       "    </tr>\n",
       "  </thead>\n",
       "  <tbody>\n",
       "    <tr>\n",
       "      <td>0</td>\n",
       "      <td>purple-haze</td>\n",
       "      <td>\"“I grabbed a 1/4 from the Bulldog cafe in Ams...</td>\n",
       "    </tr>\n",
       "    <tr>\n",
       "      <td>1</td>\n",
       "      <td>purple-haze</td>\n",
       "      <td>\"“Took me from down in the dumps to having a c...</td>\n",
       "    </tr>\n",
       "    <tr>\n",
       "      <td>2</td>\n",
       "      <td>purple-haze</td>\n",
       "      <td>\"“Extended review NJ Purple Haze</td>\n",
       "    </tr>\n",
       "    <tr>\n",
       "      <td>3</td>\n",
       "      <td>purple-haze</td>\n",
       "      <td>Been able to give this some more indepth testi...</td>\n",
       "    </tr>\n",
       "    <tr>\n",
       "      <td>4</td>\n",
       "      <td>purple-haze</td>\n",
       "      <td>\"“Very strong strain, killed a bunch of bowl p...</td>\n",
       "    </tr>\n",
       "  </tbody>\n",
       "</table>\n",
       "</div>"
      ],
      "text/plain": [
       "        strain                                               text\n",
       "0  purple-haze  \"“I grabbed a 1/4 from the Bulldog cafe in Ams...\n",
       "1  purple-haze  \"“Took me from down in the dumps to having a c...\n",
       "2  purple-haze                   \"“Extended review NJ Purple Haze\n",
       "3  purple-haze  Been able to give this some more indepth testi...\n",
       "4  purple-haze  \"“Very strong strain, killed a bunch of bowl p..."
      ]
     },
     "execution_count": 14,
     "metadata": {},
     "output_type": "execute_result"
    }
   ],
   "source": [
    "# Implementing PotGuide data into existing Leafly Reviews\n",
    "for new_df in potguide_data:\n",
    "    df = df.append(new_df, ignore_index = True)\n",
    "\n",
    "print(df.shape)\n",
    "df.head()"
   ]
  },
  {
   "cell_type": "code",
   "execution_count": 15,
   "metadata": {},
   "outputs": [],
   "source": [
    "from sklearn.pipeline import Pipeline\n",
    "from sklearn.ensemble import RandomForestClassifier\n",
    "from sklearn.model_selection import GridSearchCV\n",
    "from sklearn.feature_extraction.text import TfidfVectorizer"
   ]
  },
  {
   "cell_type": "code",
   "execution_count": 16,
   "metadata": {},
   "outputs": [
    {
     "data": {
      "text/html": [
       "<div>\n",
       "<style scoped>\n",
       "    .dataframe tbody tr th:only-of-type {\n",
       "        vertical-align: middle;\n",
       "    }\n",
       "\n",
       "    .dataframe tbody tr th {\n",
       "        vertical-align: top;\n",
       "    }\n",
       "\n",
       "    .dataframe thead th {\n",
       "        text-align: right;\n",
       "    }\n",
       "</style>\n",
       "<table border=\"1\" class=\"dataframe\">\n",
       "  <thead>\n",
       "    <tr style=\"text-align: right;\">\n",
       "      <th></th>\n",
       "      <th>strain</th>\n",
       "      <th>text</th>\n",
       "    </tr>\n",
       "  </thead>\n",
       "  <tbody>\n",
       "  </tbody>\n",
       "</table>\n",
       "</div>"
      ],
      "text/plain": [
       "Empty DataFrame\n",
       "Columns: [strain, text]\n",
       "Index: []"
      ]
     },
     "execution_count": 16,
     "metadata": {},
     "output_type": "execute_result"
    }
   ],
   "source": [
    "# Are any NaN values remaining?\n",
    "df[df.isna().any(axis=1)]"
   ]
  },
  {
   "cell_type": "code",
   "execution_count": 17,
   "metadata": {},
   "outputs": [],
   "source": [
    "# Pipeline components\n",
    "vect = TfidfVectorizer()\n",
    "rfc = RandomForestClassifier()"
   ]
  },
  {
   "cell_type": "code",
   "execution_count": null,
   "metadata": {},
   "outputs": [
    {
     "name": "stderr",
     "output_type": "stream",
     "text": [
      "/home/guillermo/anaconda3/lib/python3.7/site-packages/sklearn/ensemble/forest.py:245: FutureWarning: The default value of n_estimators will change from 10 in version 0.20 to 100 in 0.22.\n",
      "  \"10 in version 0.20 to 100 in 0.22.\", FutureWarning)\n"
     ]
    }
   ],
   "source": [
    "pipe = Pipeline([('tfidf', vect), ('clf', rfc)])\n",
    "\n",
    "pipe.fit(df['text'], df['strain'])"
   ]
  },
  {
   "cell_type": "code",
   "execution_count": null,
   "metadata": {},
   "outputs": [],
   "source": [
    "review = [\"Looking for fruity strain that is good for anxiety and hand pain and arthritis relief\"]\n",
    "pipe.predict(review)"
   ]
  },
  {
   "cell_type": "code",
   "execution_count": null,
   "metadata": {},
   "outputs": [],
   "source": []
  }
 ],
 "metadata": {
  "file_extension": ".py",
  "kernelspec": {
   "display_name": "Python 3.7.4 64-bit ('anaconda3': virtualenv)",
   "language": "python",
   "name": "python37464bitanaconda3virtualenv65a814eb53f044979a1dd5d6ebe58fc2"
  },
  "language_info": {
   "codemirror_mode": {
    "name": "ipython",
    "version": 3
   },
   "file_extension": ".py",
   "mimetype": "text/x-python",
   "name": "python",
   "nbconvert_exporter": "python",
   "pygments_lexer": "ipython3",
   "version": "3.7.4"
  },
  "mimetype": "text/x-python",
  "name": "python",
  "npconvert_exporter": "python",
  "pygments_lexer": "ipython3",
  "version": 3
 },
 "nbformat": 4,
 "nbformat_minor": 4
}
