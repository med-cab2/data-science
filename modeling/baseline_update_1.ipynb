{
 "nbformat": 4,
 "nbformat_minor": 2,
 "metadata": {
  "language_info": {
   "name": "python",
   "codemirror_mode": {
    "name": "ipython",
    "version": 3
   },
   "version": "3.7.4-final"
  },
  "orig_nbformat": 2,
  "file_extension": ".py",
  "mimetype": "text/x-python",
  "name": "python",
  "npconvert_exporter": "python",
  "pygments_lexer": "ipython3",
  "version": 3,
  "kernelspec": {
   "name": "python37464bitanaconda3virtualenv65a814eb53f044979a1dd5d6ebe58fc2",
   "display_name": "Python 3.7.4 64-bit ('anaconda3': virtualenv)"
  }
 },
 "cells": [
  {
   "cell_type": "code",
   "execution_count": 1,
   "metadata": {},
   "outputs": [],
   "source": [
    "import pandas as pd"
   ]
  },
  {
   "cell_type": "code",
   "execution_count": 2,
   "metadata": {},
   "outputs": [
    {
     "name": "stdout",
     "output_type": "stream",
     "text": "(334, 13)\n"
    },
    {
     "data": {
      "text/html": "<div>\n<style scoped>\n    .dataframe tbody tr th:only-of-type {\n        vertical-align: middle;\n    }\n\n    .dataframe tbody tr th {\n        vertical-align: top;\n    }\n\n    .dataframe thead th {\n        text-align: right;\n    }\n</style>\n<table border=\"1\" class=\"dataframe\">\n  <thead>\n    <tr style=\"text-align: right;\">\n      <th></th>\n      <th>Appearance</th>\n      <th>Aroma</th>\n      <th>Description</th>\n      <th>Flavor</th>\n      <th>Flowering Time</th>\n      <th>Grow</th>\n      <th>Grow Medium</th>\n      <th>Lineage</th>\n      <th>Name</th>\n      <th>Origin</th>\n      <th>Qualities</th>\n      <th>Story</th>\n      <th>Strain Type</th>\n    </tr>\n  </thead>\n  <tbody>\n    <tr>\n      <td>0</td>\n      <td>Broad, spade-shaped woodland green calyxes in ...</td>\n      <td>We were definitely \"wowed\" by the aroma that t...</td>\n      <td>For lovers of Bubba Kush, this strain is a mus...</td>\n      <td>While it was nearly impossible to live up to t...</td>\n      <td>NaN</td>\n      <td>Clone</td>\n      <td>NaN</td>\n      <td>Pre-'98 Bubba Kush x Reservoir ChemDawg IC3</td>\n      <td>303 Kush</td>\n      <td>Colorado</td>\n      <td>One word kept coming up during our reviews of ...</td>\n      <td>Selected by Colorado's Hill Billy (and named f...</td>\n      <td>Indica-dominant hybrid</td>\n    </tr>\n    <tr>\n      <td>1</td>\n      <td>NaN</td>\n      <td>Pungent mix of lemon, garlic, and body odor fu...</td>\n      <td>Albert Walker is a legendary clone-only Afghan...</td>\n      <td>Spicy and citrusy, with a lingering aftertaste</td>\n      <td>60 days</td>\n      <td>Clone-only, very rare</td>\n      <td>(info courtesy of Scott, founder of Stone Moun...</td>\n      <td>Albert Walker x Manic</td>\n      <td>32 (\"Three-Two\")</td>\n      <td>Afghanistan</td>\n      <td>Though it's a strongly Indica-dominant strain,...</td>\n      <td>This strain was named \"32? (pronounced \"Three-...</td>\n      <td>Indica-dominant hybrid</td>\n    </tr>\n    <tr>\n      <td>2</td>\n      <td>NaN</td>\n      <td>NaN</td>\n      <td>Sour D x OG Kush x Master Kush</td>\n      <td>NaN</td>\n      <td>NaN</td>\n      <td>NaN</td>\n      <td>NaN</td>\n      <td>Sour D x OG Kush x Master Kush</td>\n      <td>707 Headband</td>\n      <td>Northern California</td>\n      <td>NaN</td>\n      <td>NaN</td>\n      <td>Sativa Dominant</td>\n    </tr>\n    <tr>\n      <td>3</td>\n      <td>Claw-shaped fern green sepals in open, loose c...</td>\n      <td>he staff's consensus favorite part of this sam...</td>\n      <td>This A.S.H. is an example of some classic gene...</td>\n      <td>Flavor-wise, this strain was again a mix betwe...</td>\n      <td>NaN</td>\n      <td>Seed</td>\n      <td>NaN</td>\n      <td>Afghani Skunk x Afghani Haze</td>\n      <td>A.S.H.</td>\n      <td>Netherlands</td>\n      <td>We felt both parts of the lineage on this one ...</td>\n      <td>Bred by Mr. Nice Seedbank</td>\n      <td>Sativa Dominant Hybrid</td>\n    </tr>\n    <tr>\n      <td>4</td>\n      <td>NaN</td>\n      <td>Spicy Aroma with hints of lemon</td>\n      <td>NaN</td>\n      <td>NaN</td>\n      <td>NaN</td>\n      <td>NaN</td>\n      <td>NaN</td>\n      <td>OG Kush</td>\n      <td>Abusive's OG Kush</td>\n      <td>NaN</td>\n      <td>NaN</td>\n      <td>Abusive's OG (later renamed \"L.A. Kush\") is a ...</td>\n      <td>Indica</td>\n    </tr>\n  </tbody>\n</table>\n</div>",
      "text/plain": "                                          Appearance  \\\n0  Broad, spade-shaped woodland green calyxes in ...   \n1                                                NaN   \n2                                                NaN   \n3  Claw-shaped fern green sepals in open, loose c...   \n4                                                NaN   \n\n                                               Aroma  \\\n0  We were definitely \"wowed\" by the aroma that t...   \n1  Pungent mix of lemon, garlic, and body odor fu...   \n2                                                NaN   \n3  he staff's consensus favorite part of this sam...   \n4                    Spicy Aroma with hints of lemon   \n\n                                         Description  \\\n0  For lovers of Bubba Kush, this strain is a mus...   \n1  Albert Walker is a legendary clone-only Afghan...   \n2                     Sour D x OG Kush x Master Kush   \n3  This A.S.H. is an example of some classic gene...   \n4                                                NaN   \n\n                                              Flavor Flowering Time  \\\n0  While it was nearly impossible to live up to t...            NaN   \n1     Spicy and citrusy, with a lingering aftertaste        60 days   \n2                                                NaN            NaN   \n3  Flavor-wise, this strain was again a mix betwe...            NaN   \n4                                                NaN            NaN   \n\n                    Grow                                        Grow Medium  \\\n0                  Clone                                                NaN   \n1  Clone-only, very rare  (info courtesy of Scott, founder of Stone Moun...   \n2                    NaN                                                NaN   \n3                   Seed                                                NaN   \n4                    NaN                                                NaN   \n\n                                       Lineage               Name  \\\n0  Pre-'98 Bubba Kush x Reservoir ChemDawg IC3           303 Kush   \n1                        Albert Walker x Manic   32 (\"Three-Two\")   \n2               Sour D x OG Kush x Master Kush       707 Headband   \n3                 Afghani Skunk x Afghani Haze             A.S.H.   \n4                                      OG Kush  Abusive's OG Kush   \n\n                Origin                                          Qualities  \\\n0             Colorado  One word kept coming up during our reviews of ...   \n1          Afghanistan  Though it's a strongly Indica-dominant strain,...   \n2  Northern California                                                NaN   \n3          Netherlands  We felt both parts of the lineage on this one ...   \n4                  NaN                                                NaN   \n\n                                               Story             Strain Type  \n0  Selected by Colorado's Hill Billy (and named f...  Indica-dominant hybrid  \n1  This strain was named \"32? (pronounced \"Three-...  Indica-dominant hybrid  \n2                                                NaN         Sativa Dominant  \n3                          Bred by Mr. Nice Seedbank  Sativa Dominant Hybrid  \n4  Abusive's OG (later renamed \"L.A. Kush\") is a ...                  Indica  "
     },
     "execution_count": 2,
     "metadata": {},
     "output_type": "execute_result"
    }
   ],
   "source": [
    "potguide = pd.read_csv('potguide_data.csv')\n",
    "print(potguide.shape)\n",
    "potguide.head()"
   ]
  },
  {
   "cell_type": "code",
   "execution_count": 4,
   "metadata": {},
   "outputs": [
    {
     "data": {
      "text/plain": "A.S.H.                           3\nAfgooey                          3\nAfghanica                        3\nAfkansastan                      3\nAfPak                            3\n                                ..\nAK-47 x NL-5                     1\nLambo                            1\nSuper Silver Haze x Herijuana    1\nSweet Afghani Delicious          1\nGrape Stomper                    1\nName: Name, Length: 304, dtype: int64"
     },
     "execution_count": 4,
     "metadata": {},
     "output_type": "execute_result"
    }
   ],
   "source": [
    "potguide.Name.value_counts()"
   ]
  },
  {
   "cell_type": "code",
   "execution_count": 6,
   "metadata": {},
   "outputs": [
    {
     "data": {
      "text/plain": "(304, 13)"
     },
     "execution_count": 6,
     "metadata": {},
     "output_type": "execute_result"
    }
   ],
   "source": [
    "potguide.drop_duplicates().shape"
   ]
  },
  {
   "cell_type": "code",
   "execution_count": 7,
   "metadata": {},
   "outputs": [
    {
     "name": "stdout",
     "output_type": "stream",
     "text": "(304, 13)\n"
    },
    {
     "data": {
      "text/html": "<div>\n<style scoped>\n    .dataframe tbody tr th:only-of-type {\n        vertical-align: middle;\n    }\n\n    .dataframe tbody tr th {\n        vertical-align: top;\n    }\n\n    .dataframe thead th {\n        text-align: right;\n    }\n</style>\n<table border=\"1\" class=\"dataframe\">\n  <thead>\n    <tr style=\"text-align: right;\">\n      <th></th>\n      <th>Appearance</th>\n      <th>Aroma</th>\n      <th>Description</th>\n      <th>Flavor</th>\n      <th>Flowering Time</th>\n      <th>Grow</th>\n      <th>Grow Medium</th>\n      <th>Lineage</th>\n      <th>Name</th>\n      <th>Origin</th>\n      <th>Qualities</th>\n      <th>Story</th>\n      <th>Strain Type</th>\n    </tr>\n  </thead>\n  <tbody>\n    <tr>\n      <td>0</td>\n      <td>Broad, spade-shaped woodland green calyxes in ...</td>\n      <td>We were definitely \"wowed\" by the aroma that t...</td>\n      <td>For lovers of Bubba Kush, this strain is a mus...</td>\n      <td>While it was nearly impossible to live up to t...</td>\n      <td>NaN</td>\n      <td>Clone</td>\n      <td>NaN</td>\n      <td>Pre-'98 Bubba Kush x Reservoir ChemDawg IC3</td>\n      <td>303 Kush</td>\n      <td>Colorado</td>\n      <td>One word kept coming up during our reviews of ...</td>\n      <td>Selected by Colorado's Hill Billy (and named f...</td>\n      <td>Indica-dominant hybrid</td>\n    </tr>\n    <tr>\n      <td>1</td>\n      <td>NaN</td>\n      <td>Pungent mix of lemon, garlic, and body odor fu...</td>\n      <td>Albert Walker is a legendary clone-only Afghan...</td>\n      <td>Spicy and citrusy, with a lingering aftertaste</td>\n      <td>60 days</td>\n      <td>Clone-only, very rare</td>\n      <td>(info courtesy of Scott, founder of Stone Moun...</td>\n      <td>Albert Walker x Manic</td>\n      <td>32 (\"Three-Two\")</td>\n      <td>Afghanistan</td>\n      <td>Though it's a strongly Indica-dominant strain,...</td>\n      <td>This strain was named \"32? (pronounced \"Three-...</td>\n      <td>Indica-dominant hybrid</td>\n    </tr>\n    <tr>\n      <td>2</td>\n      <td>NaN</td>\n      <td>NaN</td>\n      <td>Sour D x OG Kush x Master Kush</td>\n      <td>NaN</td>\n      <td>NaN</td>\n      <td>NaN</td>\n      <td>NaN</td>\n      <td>Sour D x OG Kush x Master Kush</td>\n      <td>707 Headband</td>\n      <td>Northern California</td>\n      <td>NaN</td>\n      <td>NaN</td>\n      <td>Sativa Dominant</td>\n    </tr>\n    <tr>\n      <td>3</td>\n      <td>Claw-shaped fern green sepals in open, loose c...</td>\n      <td>he staff's consensus favorite part of this sam...</td>\n      <td>This A.S.H. is an example of some classic gene...</td>\n      <td>Flavor-wise, this strain was again a mix betwe...</td>\n      <td>NaN</td>\n      <td>Seed</td>\n      <td>NaN</td>\n      <td>Afghani Skunk x Afghani Haze</td>\n      <td>A.S.H.</td>\n      <td>Netherlands</td>\n      <td>We felt both parts of the lineage on this one ...</td>\n      <td>Bred by Mr. Nice Seedbank</td>\n      <td>Sativa Dominant Hybrid</td>\n    </tr>\n    <tr>\n      <td>4</td>\n      <td>NaN</td>\n      <td>Spicy Aroma with hints of lemon</td>\n      <td>NaN</td>\n      <td>NaN</td>\n      <td>NaN</td>\n      <td>NaN</td>\n      <td>NaN</td>\n      <td>OG Kush</td>\n      <td>Abusive's OG Kush</td>\n      <td>NaN</td>\n      <td>NaN</td>\n      <td>Abusive's OG (later renamed \"L.A. Kush\") is a ...</td>\n      <td>Indica</td>\n    </tr>\n  </tbody>\n</table>\n</div>",
      "text/plain": "                                          Appearance  \\\n0  Broad, spade-shaped woodland green calyxes in ...   \n1                                                NaN   \n2                                                NaN   \n3  Claw-shaped fern green sepals in open, loose c...   \n4                                                NaN   \n\n                                               Aroma  \\\n0  We were definitely \"wowed\" by the aroma that t...   \n1  Pungent mix of lemon, garlic, and body odor fu...   \n2                                                NaN   \n3  he staff's consensus favorite part of this sam...   \n4                    Spicy Aroma with hints of lemon   \n\n                                         Description  \\\n0  For lovers of Bubba Kush, this strain is a mus...   \n1  Albert Walker is a legendary clone-only Afghan...   \n2                     Sour D x OG Kush x Master Kush   \n3  This A.S.H. is an example of some classic gene...   \n4                                                NaN   \n\n                                              Flavor Flowering Time  \\\n0  While it was nearly impossible to live up to t...            NaN   \n1     Spicy and citrusy, with a lingering aftertaste        60 days   \n2                                                NaN            NaN   \n3  Flavor-wise, this strain was again a mix betwe...            NaN   \n4                                                NaN            NaN   \n\n                    Grow                                        Grow Medium  \\\n0                  Clone                                                NaN   \n1  Clone-only, very rare  (info courtesy of Scott, founder of Stone Moun...   \n2                    NaN                                                NaN   \n3                   Seed                                                NaN   \n4                    NaN                                                NaN   \n\n                                       Lineage               Name  \\\n0  Pre-'98 Bubba Kush x Reservoir ChemDawg IC3           303 Kush   \n1                        Albert Walker x Manic   32 (\"Three-Two\")   \n2               Sour D x OG Kush x Master Kush       707 Headband   \n3                 Afghani Skunk x Afghani Haze             A.S.H.   \n4                                      OG Kush  Abusive's OG Kush   \n\n                Origin                                          Qualities  \\\n0             Colorado  One word kept coming up during our reviews of ...   \n1          Afghanistan  Though it's a strongly Indica-dominant strain,...   \n2  Northern California                                                NaN   \n3          Netherlands  We felt both parts of the lineage on this one ...   \n4                  NaN                                                NaN   \n\n                                               Story             Strain Type  \n0  Selected by Colorado's Hill Billy (and named f...  Indica-dominant hybrid  \n1  This strain was named \"32? (pronounced \"Three-...  Indica-dominant hybrid  \n2                                                NaN         Sativa Dominant  \n3                          Bred by Mr. Nice Seedbank  Sativa Dominant Hybrid  \n4  Abusive's OG (later renamed \"L.A. Kush\") is a ...                  Indica  "
     },
     "execution_count": 7,
     "metadata": {},
     "output_type": "execute_result"
    }
   ],
   "source": [
    "# Remove any duplicatess\n",
    "potguide = potguide.drop_duplicates()\n",
    "print(potguide.shape)\n",
    "potguide.head()"
   ]
  },
  {
   "cell_type": "code",
   "execution_count": 16,
   "metadata": {},
   "outputs": [],
   "source": [
    "potguide_aroma = potguide[['Name', 'Aroma']].dropna()"
   ]
  },
  {
   "cell_type": "code",
   "execution_count": 17,
   "metadata": {},
   "outputs": [],
   "source": [
    "potguide_flavor = potguide[['Name', 'Flavor']].dropna()"
   ]
  },
  {
   "cell_type": "code",
   "execution_count": 21,
   "metadata": {},
   "outputs": [],
   "source": [
    "potguide_qualities = potguide[['Name', 'Qualities']].dropna()"
   ]
  },
  {
   "cell_type": "code",
   "execution_count": 25,
   "metadata": {},
   "outputs": [],
   "source": [
    "potguide_data = [potguide_aroma, potguide_flavor, potguide_qualities]\n",
    "\n",
    "for df in potguide_data:\n",
    "    header = list(df)\n",
    "    df.rename(columns={header[0]: \"strain\" ,header[1]: \"text\"}, inplace=True)"
   ]
  },
  {
   "cell_type": "code",
   "execution_count": 26,
   "metadata": {},
   "outputs": [
    {
     "name": "stdout",
     "output_type": "stream",
     "text": "['strain', 'text']\n['strain', 'text']\n['strain', 'text']\n"
    }
   ],
   "source": [
    "# Standardizing header\n",
    "for df in potguide_data:\n",
    "    print(list(df))"
   ]
  },
  {
   "cell_type": "code",
   "execution_count": 20,
   "metadata": {},
   "outputs": [
    {
     "name": "stdout",
     "output_type": "stream",
     "text": "(269335, 2)\n"
    },
    {
     "data": {
      "text/html": "<div>\n<style scoped>\n    .dataframe tbody tr th:only-of-type {\n        vertical-align: middle;\n    }\n\n    .dataframe tbody tr th {\n        vertical-align: top;\n    }\n\n    .dataframe thead th {\n        text-align: right;\n    }\n</style>\n<table border=\"1\" class=\"dataframe\">\n  <thead>\n    <tr style=\"text-align: right;\">\n      <th></th>\n      <th>strain</th>\n      <th>leafly_review</th>\n    </tr>\n  </thead>\n  <tbody>\n    <tr>\n      <td>0</td>\n      <td>blues</td>\n      <td>\"“Unknown by origin Blues is unofficially only...</td>\n    </tr>\n    <tr>\n      <td>1</td>\n      <td>blues</td>\n      <td>\"“Grew out this strain. It is a stout strong p...</td>\n    </tr>\n    <tr>\n      <td>2</td>\n      <td>blues</td>\n      <td>\"“Hey guys am from the north of the uk ( Scunt...</td>\n    </tr>\n    <tr>\n      <td>3</td>\n      <td>blues</td>\n      <td>\"“This weed IS amazing DEPENDING on the grower...</td>\n    </tr>\n    <tr>\n      <td>4</td>\n      <td>blues</td>\n      <td>like I said it all depends on the grower , Per...</td>\n    </tr>\n  </tbody>\n</table>\n</div>",
      "text/plain": "  strain                                      leafly_review\n0  blues  \"“Unknown by origin Blues is unofficially only...\n1  blues  \"“Grew out this strain. It is a stout strong p...\n2  blues  \"“Hey guys am from the north of the uk ( Scunt...\n3  blues  \"“This weed IS amazing DEPENDING on the grower...\n4  blues  like I said it all depends on the grower , Per..."
     },
     "execution_count": 20,
     "metadata": {},
     "output_type": "execute_result"
    }
   ],
   "source": [
    "df = pd.read_csv('leafly_reviews.csv')\n",
    "print(df.shape)\n",
    "df.head()"
   ]
  },
  {
   "cell_type": "code",
   "execution_count": 27,
   "metadata": {},
   "outputs": [
    {
     "name": "stdout",
     "output_type": "stream",
     "text": "['strain', 'text']\n"
    }
   ],
   "source": [
    "# Standardizing headers\n",
    "df = df.rename(columns={\"leafly_review\": \"text\"})\n",
    "print(list(df))"
   ]
  },
  {
   "cell_type": "code",
   "execution_count": null,
   "metadata": {},
   "outputs": [],
   "source": []
  }
 ]
}